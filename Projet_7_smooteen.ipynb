{
 "cells": [
  {
   "cell_type": "code",
   "execution_count": 1,
   "id": "54aecb18-1a04-4f5d-8f7b-7e1560e4839e",
   "metadata": {
    "execution": {
     "iopub.execute_input": "2023-01-25T09:20:36.110338Z",
     "iopub.status.busy": "2023-01-25T09:20:36.109338Z",
     "iopub.status.idle": "2023-01-25T09:20:39.358375Z",
     "shell.execute_reply": "2023-01-25T09:20:39.358375Z",
     "shell.execute_reply.started": "2023-01-25T09:20:36.110338Z"
    },
    "tags": []
   },
   "outputs": [],
   "source": [
    "import pandas as pd\n",
    "import numpy as np\n",
    "import os\n",
    "import missingno as msno\n",
    "from imblearn.combine import SMOTEENN\n",
    "from sklearn.impute import SimpleImputer\n",
    "from sklearn.preprocessing import OneHotEncoder, StandardScaler\n",
    "from sklearn.model_selection import train_test_split"
   ]
  },
  {
   "cell_type": "code",
   "execution_count": 2,
   "id": "5620da92-1ce3-4f1f-aab0-442a645947de",
   "metadata": {
    "execution": {
     "iopub.execute_input": "2023-01-25T09:20:39.360258Z",
     "iopub.status.busy": "2023-01-25T09:20:39.359268Z",
     "iopub.status.idle": "2023-01-25T09:20:42.733252Z",
     "shell.execute_reply": "2023-01-25T09:20:42.733252Z",
     "shell.execute_reply.started": "2023-01-25T09:20:39.360258Z"
    },
    "tags": []
   },
   "outputs": [],
   "source": [
    "os.chdir('..')\n",
    "path = os.getcwd()\n",
    "train_df = pd.read_csv(path+'\\\\full_impute_df.csv')"
   ]
  },
  {
   "cell_type": "code",
   "execution_count": 3,
   "id": "98bbdfd9-8f83-4d93-abf0-780d66bdf4ab",
   "metadata": {
    "execution": {
     "iopub.execute_input": "2023-01-25T09:20:42.734222Z",
     "iopub.status.busy": "2023-01-25T09:20:42.734222Z",
     "iopub.status.idle": "2023-01-25T09:20:46.228225Z",
     "shell.execute_reply": "2023-01-25T09:20:46.228225Z",
     "shell.execute_reply.started": "2023-01-25T09:20:42.734222Z"
    },
    "tags": []
   },
   "outputs": [],
   "source": [
    "train_df = pd.read_csv(path+'\\\\full_impute_df.csv')"
   ]
  },
  {
   "cell_type": "code",
   "execution_count": 4,
   "id": "1fb53d70-8390-4fc0-b498-c7b0567aadb3",
   "metadata": {
    "execution": {
     "iopub.execute_input": "2023-01-25T09:20:46.230221Z",
     "iopub.status.busy": "2023-01-25T09:20:46.230221Z",
     "iopub.status.idle": "2023-01-25T09:20:46.244221Z",
     "shell.execute_reply": "2023-01-25T09:20:46.244221Z",
     "shell.execute_reply.started": "2023-01-25T09:20:46.230221Z"
    },
    "tags": []
   },
   "outputs": [],
   "source": [
    "def preprocessing(df, imputer = False):\n",
    "    #set the index as the id of the loan\n",
    "    df = df.set_index('SK_ID_CURR')\n",
    "    #wrong gender code\n",
    "    df = df.drop(df.loc[df['CODE_GENDER'] == 'XNA'].index)\n",
    "    #check if binary features are binary\n",
    "    binary = [i for i in df.columns if 'FLAG' in i]\n",
    "    for i in binary:\n",
    "        if len(df[i].unique()) != 2:\n",
    "            print('Column {} is not binary.'.format(i))\n",
    "    #extract target\n",
    "    if df['TARGET'].isna().sum() != 0:\n",
    "        df = df.drop(df.loc[df['TARGET'].isna()])\n",
    "    y = df['TARGET']\n",
    "    df = df.drop(labels = 'TARGET', axis = 1)\n",
    "    #OHE categorical features\n",
    "    cat_df = df.select_dtypes(include = ['object'])\n",
    "    cat_idx = cat_df.index\n",
    "    num_df = df.select_dtypes(exclude = ['object'])\n",
    "    ohe = OneHotEncoder(sparse = False)\n",
    "    cat_df = ohe.fit_transform(cat_df)\n",
    "    colnames = ohe.get_feature_names_out(ohe.feature_names_in_)\n",
    "    cat_df = pd.DataFrame(cat_df, columns = colnames, index = cat_idx)\n",
    "    #impute\n",
    "    if imputer:\n",
    "        num_df = imputer.fit_transform(num_df)\n",
    "        colnames = imputer.feature_names_in_\n",
    "        num_df = pd.DataFrame(num_df, columns = colnames)\n",
    "        \n",
    "    df = num_df.join(cat_df)\n",
    "\n",
    "    colnames = df.columns\n",
    "    return df, y, colnames \n",
    "    "
   ]
  },
  {
   "cell_type": "code",
   "execution_count": 5,
   "id": "c9ebdc79-13ea-459f-8b77-819ebf06b9dd",
   "metadata": {
    "execution": {
     "iopub.execute_input": "2023-01-25T09:20:46.245223Z",
     "iopub.status.busy": "2023-01-25T09:20:46.245223Z",
     "iopub.status.idle": "2023-01-25T09:20:48.408225Z",
     "shell.execute_reply": "2023-01-25T09:20:48.408225Z",
     "shell.execute_reply.started": "2023-01-25T09:20:46.245223Z"
    },
    "tags": []
   },
   "outputs": [],
   "source": [
    "\n",
    "df, df_y, colnames = preprocessing(train_df)"
   ]
  },
  {
   "cell_type": "code",
   "execution_count": 6,
   "id": "865e095e-c680-42b9-8922-3b34b2ea5976",
   "metadata": {
    "execution": {
     "iopub.execute_input": "2023-01-25T09:20:48.409222Z",
     "iopub.status.busy": "2023-01-25T09:20:48.409222Z",
     "iopub.status.idle": "2023-01-25T10:18:24.642786Z",
     "shell.execute_reply": "2023-01-25T10:18:24.640786Z",
     "shell.execute_reply.started": "2023-01-25T09:20:48.409222Z"
    },
    "tags": []
   },
   "outputs": [],
   "source": [
    "xtrain, xtest, ytrain, ytest = train_test_split(df, df_y, random_state = 12)\n",
    "smoteenn = SMOTEENN()\n",
    "sampled_data, sampled_data_y = smoteenn.fit_resample(xtrain, ytrain)"
   ]
  },
  {
   "cell_type": "code",
   "execution_count": 14,
   "id": "2f4be14c-7f28-40a7-bcdf-98aebb884447",
   "metadata": {
    "execution": {
     "iopub.execute_input": "2023-01-25T12:54:47.732014Z",
     "iopub.status.busy": "2023-01-25T12:54:47.731014Z",
     "iopub.status.idle": "2023-01-25T12:55:52.501124Z",
     "shell.execute_reply": "2023-01-25T12:55:52.501124Z",
     "shell.execute_reply.started": "2023-01-25T12:54:47.732014Z"
    },
    "tags": []
   },
   "outputs": [],
   "source": [
    "smoteen_df = pd.DataFrame(sampled_data, columns = colnames)\n",
    "smoteen_target = pd.DataFrame(sampled_data_y)\n",
    "smoteen_test = pd.DataFrame(xtest, columns = colnames)\n",
    "smoteen_test_y = pd.DataFrame(ytest)\n",
    "smoteen_df.to_csv('smoteen_df.csv', index = False)\n",
    "smoteen_target.to_csv('smoteen_target.csv',index = False)\n",
    "smoteen_test.to_csv('smoteen_test.csv',index = False)\n",
    "smoteen_test_y.to_csv('smoteen_test_target.csv',index = False)"
   ]
  },
  {
   "cell_type": "code",
   "execution_count": 13,
   "id": "af0b7a25-7a65-460a-888b-62d1d6c603ec",
   "metadata": {
    "execution": {
     "iopub.execute_input": "2023-01-25T11:23:51.721583Z",
     "iopub.status.busy": "2023-01-25T11:23:51.721583Z",
     "iopub.status.idle": "2023-01-25T11:23:51.736558Z",
     "shell.execute_reply": "2023-01-25T11:23:51.735558Z",
     "shell.execute_reply.started": "2023-01-25T11:23:51.721583Z"
    },
    "tags": []
   },
   "outputs": [
    {
     "data": {
      "text/html": [
       "<div>\n",
       "<style scoped>\n",
       "    .dataframe tbody tr th:only-of-type {\n",
       "        vertical-align: middle;\n",
       "    }\n",
       "\n",
       "    .dataframe tbody tr th {\n",
       "        vertical-align: top;\n",
       "    }\n",
       "\n",
       "    .dataframe thead th {\n",
       "        text-align: right;\n",
       "    }\n",
       "</style>\n",
       "<table border=\"1\" class=\"dataframe\">\n",
       "  <thead>\n",
       "    <tr style=\"text-align: right;\">\n",
       "      <th></th>\n",
       "      <th>TARGET</th>\n",
       "    </tr>\n",
       "    <tr>\n",
       "      <th>SK_ID_CURR</th>\n",
       "      <th></th>\n",
       "    </tr>\n",
       "  </thead>\n",
       "  <tbody>\n",
       "    <tr>\n",
       "      <th>320089.0</th>\n",
       "      <td>0.0</td>\n",
       "    </tr>\n",
       "    <tr>\n",
       "      <th>142995.0</th>\n",
       "      <td>0.0</td>\n",
       "    </tr>\n",
       "    <tr>\n",
       "      <th>378359.0</th>\n",
       "      <td>1.0</td>\n",
       "    </tr>\n",
       "    <tr>\n",
       "      <th>453298.0</th>\n",
       "      <td>0.0</td>\n",
       "    </tr>\n",
       "    <tr>\n",
       "      <th>246639.0</th>\n",
       "      <td>0.0</td>\n",
       "    </tr>\n",
       "  </tbody>\n",
       "</table>\n",
       "</div>"
      ],
      "text/plain": [
       "            TARGET\n",
       "SK_ID_CURR        \n",
       "320089.0       0.0\n",
       "142995.0       0.0\n",
       "378359.0       1.0\n",
       "453298.0       0.0\n",
       "246639.0       0.0"
      ]
     },
     "execution_count": 13,
     "metadata": {},
     "output_type": "execute_result"
    }
   ],
   "source": [
    "smoteen_test_y.head()"
   ]
  },
  {
   "cell_type": "code",
   "execution_count": 8,
   "id": "21a37e55-9299-4ce1-b943-ecae3e032719",
   "metadata": {
    "execution": {
     "iopub.execute_input": "2023-01-25T10:19:24.252616Z",
     "iopub.status.busy": "2023-01-25T10:19:24.251616Z",
     "iopub.status.idle": "2023-01-25T10:19:24.299616Z",
     "shell.execute_reply": "2023-01-25T10:19:24.298625Z",
     "shell.execute_reply.started": "2023-01-25T10:19:24.252616Z"
    },
    "tags": []
   },
   "outputs": [
    {
     "name": "stdout",
     "output_type": "stream",
     "text": [
      "<class 'pandas.core.frame.DataFrame'>\n",
      "RangeIndex: 325580 entries, 0 to 325579\n",
      "Data columns (total 1 columns):\n",
      " #   Column  Non-Null Count   Dtype  \n",
      "---  ------  --------------   -----  \n",
      " 0   TARGET  325580 non-null  float64\n",
      "dtypes: float64(1)\n",
      "memory usage: 2.5 MB\n"
     ]
    }
   ],
   "source": [
    "smoteen_target.info()"
   ]
  },
  {
   "cell_type": "code",
   "execution_count": 9,
   "id": "814921b6-e78a-4b44-b511-75ccdaf9305f",
   "metadata": {
    "execution": {
     "iopub.execute_input": "2023-01-25T10:19:24.300617Z",
     "iopub.status.busy": "2023-01-25T10:19:24.300617Z",
     "iopub.status.idle": "2023-01-25T10:19:24.329619Z",
     "shell.execute_reply": "2023-01-25T10:19:24.329619Z",
     "shell.execute_reply.started": "2023-01-25T10:19:24.300617Z"
    },
    "tags": []
   },
   "outputs": [
    {
     "data": {
      "text/plain": [
       "1.0    0.586934\n",
       "0.0    0.413066\n",
       "Name: TARGET, dtype: float64"
      ]
     },
     "execution_count": 9,
     "metadata": {},
     "output_type": "execute_result"
    }
   ],
   "source": [
    "smoteen_target['TARGET'].value_counts()/smoteen_target.shape[0]"
   ]
  }
 ],
 "metadata": {
  "kernelspec": {
   "display_name": "Python 3 (ipykernel)",
   "language": "python",
   "name": "python3"
  },
  "language_info": {
   "codemirror_mode": {
    "name": "ipython",
    "version": 3
   },
   "file_extension": ".py",
   "mimetype": "text/x-python",
   "name": "python",
   "nbconvert_exporter": "python",
   "pygments_lexer": "ipython3",
   "version": "3.9.12"
  }
 },
 "nbformat": 4,
 "nbformat_minor": 5
}
