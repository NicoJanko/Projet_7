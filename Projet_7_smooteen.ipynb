{
 "cells": [
  {
   "cell_type": "code",
   "execution_count": 9,
   "id": "54aecb18-1a04-4f5d-8f7b-7e1560e4839e",
   "metadata": {
    "execution": {
     "iopub.execute_input": "2023-01-20T13:38:53.492837Z",
     "iopub.status.busy": "2023-01-20T13:38:53.492837Z",
     "iopub.status.idle": "2023-01-20T13:38:53.499812Z",
     "shell.execute_reply": "2023-01-20T13:38:53.498810Z",
     "shell.execute_reply.started": "2023-01-20T13:38:53.492837Z"
    },
    "tags": []
   },
   "outputs": [],
   "source": [
    "import pandas as pd\n",
    "import numpy as np\n",
    "import os\n",
    "from imblearn.combine import SMOTEENN\n",
    "from sklearn.impute import SimpleImputer\n",
    "from sklearn.preprocessing import OneHotEncoder, StandardScaler\n",
    "from sklearn.model_selection import train_test_split"
   ]
  },
  {
   "cell_type": "code",
   "execution_count": 10,
   "id": "3a46c63e-db56-4963-b978-b44030a5ba94",
   "metadata": {
    "execution": {
     "iopub.execute_input": "2023-01-21T07:23:57.835535Z",
     "iopub.status.busy": "2023-01-21T07:23:57.834534Z",
     "iopub.status.idle": "2023-01-21T07:23:57.961098Z",
     "shell.execute_reply": "2023-01-21T07:23:57.961098Z",
     "shell.execute_reply.started": "2023-01-21T07:23:57.835535Z"
    },
    "tags": []
   },
   "outputs": [
    {
     "data": {
      "text/plain": [
       "'E:\\\\Data_Science\\\\OpenClassRoom\\\\Projet7'"
      ]
     },
     "execution_count": 10,
     "metadata": {},
     "output_type": "execute_result"
    }
   ],
   "source": [
    "os.getcwd()"
   ]
  },
  {
   "cell_type": "code",
   "execution_count": 11,
   "id": "5620da92-1ce3-4f1f-aab0-442a645947de",
   "metadata": {
    "execution": {
     "iopub.execute_input": "2023-01-21T07:24:46.266291Z",
     "iopub.status.busy": "2023-01-21T07:24:46.265274Z",
     "iopub.status.idle": "2023-01-21T07:24:50.209874Z",
     "shell.execute_reply": "2023-01-21T07:24:50.209874Z",
     "shell.execute_reply.started": "2023-01-21T07:24:46.266291Z"
    },
    "tags": []
   },
   "outputs": [],
   "source": [
    "\n",
    "path = os.getcwd()\n",
    "train_df = pd.read_csv(path+'\\\\full_impute_df.csv')"
   ]
  },
  {
   "cell_type": "code",
   "execution_count": 4,
   "id": "1fb53d70-8390-4fc0-b498-c7b0567aadb3",
   "metadata": {
    "execution": {
     "iopub.execute_input": "2023-01-20T13:32:35.101419Z",
     "iopub.status.busy": "2023-01-20T13:32:35.101419Z",
     "iopub.status.idle": "2023-01-20T13:32:35.120419Z",
     "shell.execute_reply": "2023-01-20T13:32:35.119418Z",
     "shell.execute_reply.started": "2023-01-20T13:32:35.101419Z"
    },
    "tags": []
   },
   "outputs": [],
   "source": [
    "def preprocessing(df, imputer = False):\n",
    "    #set the index as the id of the loan\n",
    "    df.set_index('SK_ID_CURR')\n",
    "    #wrong gender code\n",
    "    df = df.drop(df.loc[df['CODE_GENDER'] == 'XNA'].index)\n",
    "    #check if binary features are binary\n",
    "    binary = [i for i in df.columns if 'FLAG' in i]\n",
    "    for i in binary:\n",
    "        if len(df[i].unique()) != 2:\n",
    "            print('Column {} is not binary.'.format(i))\n",
    "    #extract target\n",
    "    if df['TARGET'].isna().sum() != 0:\n",
    "        df = df.drop(df.loc[df['TARGET'].isna()])\n",
    "    y = df['TARGET']\n",
    "    df = df.drop(labels = 'TARGET', axis = 1)\n",
    "    #OHE categorical features\n",
    "    cat_df = df.select_dtypes(include = ['object'])\n",
    "    num_df = df.select_dtypes(exclude = ['object'])\n",
    "    ohe = OneHotEncoder(sparse = False)\n",
    "    cat_df = ohe.fit_transform(cat_df)\n",
    "    colnames = ohe.get_feature_names_out(ohe.feature_names_in_)\n",
    "    cat_df = pd.DataFrame(cat_df, columns = colnames)\n",
    "    #impute\n",
    "    if imputer:\n",
    "        num_df = imputer.fit_transform(num_df)\n",
    "        colnames = imputer.feature_names_in_\n",
    "        num_df = pd.DataFrame(num_df, columns = colnames)\n",
    "        \n",
    "    df = num_df.join(cat_df)\n",
    "\n",
    "    colnames = df.columns\n",
    "    return df, y, colnames \n",
    "    "
   ]
  },
  {
   "cell_type": "code",
   "execution_count": 12,
   "id": "c9ebdc79-13ea-459f-8b77-819ebf06b9dd",
   "metadata": {
    "execution": {
     "iopub.execute_input": "2023-01-21T07:25:46.320620Z",
     "iopub.status.busy": "2023-01-21T07:25:46.320620Z",
     "iopub.status.idle": "2023-01-21T07:25:47.973398Z",
     "shell.execute_reply": "2023-01-21T07:25:47.973398Z",
     "shell.execute_reply.started": "2023-01-21T07:25:46.320620Z"
    },
    "tags": []
   },
   "outputs": [],
   "source": [
    "\n",
    "df, df_y, colnames = preprocessing(train_df)"
   ]
  },
  {
   "cell_type": "code",
   "execution_count": null,
   "id": "865e095e-c680-42b9-8922-3b34b2ea5976",
   "metadata": {
    "execution": {
     "iopub.execute_input": "2023-01-21T07:34:51.889031Z",
     "iopub.status.busy": "2023-01-21T07:34:51.889031Z"
    },
    "tags": []
   },
   "outputs": [],
   "source": [
    "xtrain, xtest, ytrain, ytest = train_test_split(imp_df, imp_df_y)\n",
    "smoteenn = SMOTEENN()\n",
    "sampled_data = smoteenn.fit_resample(xtrain, ytrain)"
   ]
  },
  {
   "cell_type": "code",
   "execution_count": null,
   "id": "2f4be14c-7f28-40a7-bcdf-98aebb884447",
   "metadata": {
    "execution": {
     "iopub.status.busy": "2023-01-21T07:26:52.404309Z",
     "iopub.status.idle": "2023-01-21T07:26:52.404309Z",
     "shell.execute_reply": "2023-01-21T07:26:52.404309Z",
     "shell.execute_reply.started": "2023-01-21T07:26:52.404309Z"
    }
   },
   "outputs": [],
   "source": [
    "smoteen_df = pd.DataFrame(impute_df, columns = num_df.columns)\n",
    "smoteen_df.to_csv('smoteen_df.csv', index = False)"
   ]
  },
  {
   "cell_type": "code",
   "execution_count": null,
   "id": "814921b6-e78a-4b44-b511-75ccdaf9305f",
   "metadata": {},
   "outputs": [],
   "source": []
  }
 ],
 "metadata": {
  "kernelspec": {
   "display_name": "Python 3 (ipykernel)",
   "language": "python",
   "name": "python3"
  },
  "language_info": {
   "codemirror_mode": {
    "name": "ipython",
    "version": 3
   },
   "file_extension": ".py",
   "mimetype": "text/x-python",
   "name": "python",
   "nbconvert_exporter": "python",
   "pygments_lexer": "ipython3",
   "version": "3.9.12"
  }
 },
 "nbformat": 4,
 "nbformat_minor": 5
}
